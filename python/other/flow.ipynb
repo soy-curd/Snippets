{
 "cells": [
  {
   "cell_type": "code",
   "execution_count": null,
   "metadata": {},
   "outputs": [],
   "source": [
    "import tensorflow as tf\n",
    "\n",
    "# a = tf.placeholder(dtype=tf.int32, name=\"a\")\n",
    "# a = tf.constant([[1,2], [3, 4]], name = \"a\")\n",
    "# b = tf.constant([[1],[2]], name=\"b\")\n",
    "# c = tf.matmul(a, b)\n",
    "# print(a.shape, b.shape, c.shape)\n",
    "\n",
    "# a = tf.placeholder(shape=(None, 2), dtype=tf.int32, name=\"a\")\n",
    "# b = a + a\n",
    "c = tf.Variable(1, name=\"c\")\n",
    "d = tf.assign(c, c + 1)\n",
    "\n",
    "\n",
    "saver = tf.train.Saver()\n",
    "\n",
    "with tf.Session() as sess:\n",
    "#     print(\"a + b\", sess.run(c, feed_dict={a: 1}))\n",
    "#     print(\"a * b\", sess.run(c))\n",
    "#     print(sess.run(a, feed_dict={a: [[1, 2]]}))\n",
    "    sess.run(tf.global_variables_initializer())\n",
    "    print(sess.run(d))\n",
    "    saver.save(sess, \"model/model.ckpt\")\n",
    "\n",
    "with tf.Session() as sess:\n",
    "    sess.run(tf.global_variables_initializer())\n",
    "    saver.restore(sess, save_path=\"model/model.ckpt\")\n",
    "    print(sess.run(d))\n",
    "\n",
    "    "
   ]
  },
  {
   "cell_type": "code",
   "execution_count": null,
   "metadata": {
    "collapsed": true
   },
   "outputs": [],
   "source": [
    "import tensorflow as tf\n",
    "\n",
    "LOG_DIR = \"./logs\"\n",
    "\n",
    "a = tf.constant(1, name=\"a\")\n",
    "b = tf.constant(1, name=\"b\")\n",
    "c = a + b\n",
    "\n",
    "graph = tf.get_default_graph()\n",
    "with tf.summary.FileWriter(LOG_DIR) as writer:\n",
    "    writer.add_graph(graph)\n",
    "    \n"
   ]
  },
  {
   "cell_type": "code",
   "execution_count": null,
   "metadata": {},
   "outputs": [],
   "source": [
    "import tensorflow as tf\n",
    "\n",
    "x = tf.Variable(100.0, name=\"x\")\n",
    "\n",
    "func = (x - 1) ** 2\n",
    "\n",
    "optimizer = tf.train.GradientDescentOptimizer(\n",
    "    learning_rate=0.1\n",
    ")\n",
    "\n",
    "train_step = optimizer.minimize(func)\n",
    "\n",
    "with tf.Session() as sess:\n",
    "    sess.run(tf.global_variables_initializer())\n",
    "    for i in range(40):\n",
    "        sess.run(train_step)\n",
    "    print(\"x = \", sess.run(x))\n",
    "    \n",
    "    \n",
    "\n"
   ]
  },
  {
   "cell_type": "code",
   "execution_count": null,
   "metadata": {},
   "outputs": [],
   "source": [
    "(x_train, y_train), (x_test, y_test) = tf.keras.datasets.boston_housing.load_data()"
   ]
  },
  {
   "cell_type": "code",
   "execution_count": null,
   "metadata": {},
   "outputs": [],
   "source": [
    "x_train_mean = x_train.mean(axis=0)\n",
    "x_train_std = x_train.std(axis=0)\n",
    "y_train_mean = y_train.mean()\n",
    "y_train_std = y_train.std()\n",
    "\n",
    "x_train = (x_train - x_train_mean)/ x_train_std\n",
    "y_train = (y_train - y_train_mean) / y_train_std\n",
    "\n",
    "x_test = (x_test - x_train_mean)/ x_train_std\n",
    "y_test = (y_test - y_train_mean) / y_train_std\n",
    "\n",
    "plt.plot(x_train[:, 5], y_train, \"o\")\n",
    "\n"
   ]
  },
  {
   "cell_type": "code",
   "execution_count": null,
   "metadata": {},
   "outputs": [],
   "source": [
    "%matplotlib inline\n",
    "import matplotlib.pyplot as plt\n",
    "\n",
    "plt.rcParams[\"font.size\"] = 10*3\n",
    "plt.rcParams[\"figure.figsize\"] = [18, 12]\n",
    "# plt.rcParams[\"font.family\"] = [\"IPAexGothic\"]\n",
    "\n",
    "plt.hist(y_train, bins=20)\n",
    "plt.xlabel(\"\")\n",
    "plt.ylabel(\"\")\n",
    "plt.show()\n",
    "plt.plot(x_train[:, 5], y_train, \"o\")\n",
    "plt.xlabel(\"\")\n",
    "plt.ylabel(\"\")\n",
    "\n",
    "\n"
   ]
  },
  {
   "cell_type": "code",
   "execution_count": null,
   "metadata": {},
   "outputs": [],
   "source": [
    "x = tf.placeholder(tf.float32, (None, 13), name=\"x\")\n",
    "y = tf.placeholder(tf.float32, (None, 1), name=\"y\")\n",
    "w = tf.Variable(tf.random_normal((13, 1)))\n",
    "pred = tf.matmul(x, w)\n",
    "\n",
    "loss = tf.reduce_mean((y - pred) ** 2)\n",
    "optimizer = tf.train.GradientDescentOptimizer(learning_rate=0.1)\n",
    "train_step = optimizer.minimize(loss)\n",
    "\n",
    "with tf.Session() as sess:\n",
    "    sess.run(tf.global_variables_initializer())\n",
    "    for step in range(100):\n",
    "        train_loss, _ = sess.run(\n",
    "            [loss, train_step],\n",
    "            feed_dict={\n",
    "                x: x_train,\n",
    "                y: y_train.reshape((-1, 1))\n",
    "            }\n",
    "        )\n",
    "        print(\"step: {}, train_loss: {}, \".format(\n",
    "            step, train_loss\n",
    "        ))\n",
    "        \n",
    "    pred_ = sess.run(pred, feed_dict={x: x_test})\n"
   ]
  },
  {
   "cell_type": "code",
   "execution_count": null,
   "metadata": {},
   "outputs": [],
   "source": [
    "plt.plot(x_test[:, 5], pred_, \"o\")"
   ]
  },
  {
   "cell_type": "code",
   "execution_count": null,
   "metadata": {
    "collapsed": true
   },
   "outputs": [],
   "source": []
  }
 ],
 "metadata": {
  "kernelspec": {
   "display_name": "Python 3",
   "language": "python",
   "name": "python3"
  },
  "language_info": {
   "codemirror_mode": {
    "name": "ipython",
    "version": 3
   },
   "file_extension": ".py",
   "mimetype": "text/x-python",
   "name": "python",
   "nbconvert_exporter": "python",
   "pygments_lexer": "ipython3",
   "version": "3.6.2"
  }
 },
 "nbformat": 4,
 "nbformat_minor": 2
}
